{
 "cells": [
  {
   "cell_type": "code",
   "execution_count": 1,
   "metadata": {},
   "outputs": [],
   "source": [
    "import torch\n",
    "import numpy as np\n",
    "from msdlib import msd\n",
    "import time\n",
    "import pandas as pd\n",
    "from IPython.core.display import HTML, display\n",
    "import seaborn as sns\n",
    "import utils\n",
    "import tsp_utils\n",
    "from tsp_utils import Agent\n",
    "from config import prepare_tsp_config\n",
    "from rlutils import solve_agent"
   ]
  },
  {
   "cell_type": "code",
   "execution_count": 2,
   "metadata": {},
   "outputs": [
    {
     "data": {
      "text/html": [
       "<style>.container { width:100% !important; }</style>"
      ],
      "text/plain": [
       "<IPython.core.display.HTML object>"
      ]
     },
     "metadata": {},
     "output_type": "display_data"
    }
   ],
   "source": [
    "sns.set()\n",
    "display(HTML(\"<style>.container { width:100% !important; }</style>\"))\n",
    "pd.set_option('display.max_columns', None)\n",
    "# warnings.filterwarnings('ignore')"
   ]
  },
  {
   "cell_type": "code",
   "execution_count": null,
   "metadata": {},
   "outputs": [],
   "source": []
  },
  {
   "cell_type": "code",
   "execution_count": 3,
   "metadata": {},
   "outputs": [
    {
     "name": "stdout",
     "output_type": "stream",
     "text": [
      "Namespace(T=3, active_search=False, alpha=0.99, batch_size=100, c=10, device='cuda', dimension=2, epoch=10000, greedy=False, hidden1=256, hidden2=128, inference=False, iteration=1, loadpath='trained_model/size_50', lr=0.0001, lr_step=50, lr_step_decay=0.99, maximize=False, n_glimpse=1, num_it=1, num_test=100, print_progress=True, problem_size=50, resume_training=False, save_after=50, savepath='trained_model/size_50', start_index=0)\n"
     ]
    }
   ],
   "source": [
    "# getting config\n",
    "config = prepare_tsp_config()"
   ]
  },
  {
   "cell_type": "code",
   "execution_count": 4,
   "metadata": {},
   "outputs": [
    {
     "data": {
      "text/plain": [
       "torch.Size([100, 50, 2])"
      ]
     },
     "execution_count": 4,
     "metadata": {},
     "output_type": "execute_result"
    }
   ],
   "source": [
    "tsp_instances = tsp_utils.generate_tsp_instances(config, inference=True)\n",
    "tsp_instances.shape"
   ]
  },
  {
   "cell_type": "code",
   "execution_count": 5,
   "metadata": {},
   "outputs": [],
   "source": [
    "# solutions from all algorithms\n",
    "solutions = {}"
   ]
  },
  {
   "cell_type": "markdown",
   "metadata": {},
   "source": [
    "## Ortools solution"
   ]
  },
  {
   "cell_type": "code",
   "execution_count": 6,
   "metadata": {},
   "outputs": [
    {
     "name": "stderr",
     "output_type": "stream",
     "text": [
      "100%|████████████████████████████████████████████████████████████████████████████████| 100/100 [00:08<00:00, 12.45it/s]\n"
     ]
    }
   ],
   "source": [
    "or_solutions, or_time = tsp_utils.solve_tsp_ortools(tsp_instances.numpy())\n",
    "or_distances = tsp_utils.calculate_distances(tsp_instances.numpy(), or_solutions)\n",
    "solutions['ortools'] = {'solution': or_solutions, 'distance': or_distances, 'time': or_time}"
   ]
  },
  {
   "cell_type": "code",
   "execution_count": null,
   "metadata": {},
   "outputs": [],
   "source": []
  },
  {
   "cell_type": "markdown",
   "metadata": {},
   "source": [
    "## RL model's solution"
   ]
  },
  {
   "cell_type": "code",
   "execution_count": null,
   "metadata": {
    "scrolled": true
   },
   "outputs": [
    {
     "name": "stdout",
     "output_type": "stream",
     "text": [
      "epoch: 000075| actor_loss: 38.6519,  critic_loss: 4.0624,  avg_distance: 18.231,  avg_critic_out: 18.719            "
     ]
    }
   ],
   "source": [
    "t = time.time()\n",
    "agent = Agent(config)\n",
    "for i in range(config.epoch):\n",
    "    data = tsp_utils.generate_tsp_instances(config)\n",
    "    agent.learn(data)\n",
    "agent.plot_learning()\n",
    "print('elapsed time: ', pd.Timedelta(seconds=time.time()-t))"
   ]
  },
  {
   "cell_type": "code",
   "execution_count": null,
   "metadata": {},
   "outputs": [],
   "source": []
  },
  {
   "cell_type": "code",
   "execution_count": null,
   "metadata": {
    "scrolled": true
   },
   "outputs": [],
   "source": [
    "evaluate_func = tsp_utils.calculate_distances\n",
    "solutions['PN_model'] = solve_agent(agent, tsp_instances, config, evaluate_func, 'distance')"
   ]
  },
  {
   "cell_type": "code",
   "execution_count": null,
   "metadata": {},
   "outputs": [],
   "source": [
    "tsp_utils.plot_tsp_solutions(tsp_instances, solutions, 10)"
   ]
  },
  {
   "cell_type": "markdown",
   "metadata": {},
   "source": [
    "## Results"
   ]
  },
  {
   "cell_type": "code",
   "execution_count": null,
   "metadata": {
    "scrolled": true
   },
   "outputs": [],
   "source": [
    "comp_table = utils.comparison_table(solutions, keyname='distance', maximize=config.maximize)\n",
    "comp_table"
   ]
  },
  {
   "cell_type": "code",
   "execution_count": null,
   "metadata": {},
   "outputs": [],
   "source": [
    "utils.result_stats(solutions, 'distance', basename='ortools', other_keys=['time'])"
   ]
  },
  {
   "cell_type": "code",
   "execution_count": null,
   "metadata": {},
   "outputs": [],
   "source": [
    "i = np.random.randint(config.num_test)\n",
    "print(solutions['ortools']['solution'][i])\n",
    "print(solutions['PN_model']['solution'][i])"
   ]
  },
  {
   "cell_type": "code",
   "execution_count": null,
   "metadata": {},
   "outputs": [],
   "source": []
  },
  {
   "cell_type": "code",
   "execution_count": null,
   "metadata": {},
   "outputs": [],
   "source": []
  }
 ],
 "metadata": {
  "kernelspec": {
   "display_name": "Python 3",
   "language": "python",
   "name": "python3"
  },
  "language_info": {
   "codemirror_mode": {
    "name": "ipython",
    "version": 3
   },
   "file_extension": ".py",
   "mimetype": "text/x-python",
   "name": "python",
   "nbconvert_exporter": "python",
   "pygments_lexer": "ipython3",
   "version": "3.7.3"
  }
 },
 "nbformat": 4,
 "nbformat_minor": 4
}
